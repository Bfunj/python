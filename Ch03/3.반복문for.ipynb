{
 "cells": [
  {
   "cell_type": "code",
   "execution_count": 1,
   "metadata": {},
   "outputs": [
    {
     "data": {
      "text/plain": [
       "'\\n날짜 : 2023.01.03\\n이름 : 백현조\\n내용 : 파이썬 반복문 실습하기\\n'"
      ]
     },
     "execution_count": 1,
     "metadata": {},
     "output_type": "execute_result"
    }
   ],
   "source": [
    "\"\"\"\n",
    "날짜 : 2023.01.03\n",
    "이름 : 백현조\n",
    "내용 : 파이썬 반복문 실습하기\n",
    "\"\"\""
   ]
  },
  {
   "cell_type": "code",
   "execution_count": null,
   "metadata": {},
   "outputs": [],
   "source": [
    "#for\n",
    "for i in range(5):\n",
    "    print('i :',i)\n",
    "\n",
    "for j in range(10, 20):\n",
    "    print('j :',j)\n",
    "\n",
    "for k in range(10, 0, -1):\n",
    "    print('k :',k)"
   ]
  },
  {
   "cell_type": "code",
   "execution_count": 6,
   "metadata": {},
   "outputs": [
    {
     "name": "stdout",
     "output_type": "stream",
     "text": [
      "55\n"
     ]
    }
   ],
   "source": [
    "# 1부터 10까지 합\n",
    "result =0\n",
    "for i in range(1, 11):\n",
    "    result += i\n",
    "print(result)"
   ]
  },
  {
   "cell_type": "code",
   "execution_count": 9,
   "metadata": {},
   "outputs": [
    {
     "name": "stdout",
     "output_type": "stream",
     "text": [
      "30\n"
     ]
    }
   ],
   "source": [
    "#1부터 10까지 짝수 합\n",
    "result = 0\n",
    "for i in range(1, 11):\n",
    "    if(i%2 == 0):\n",
    "        result += i\n",
    "\n",
    "print(result) "
   ]
  },
  {
   "cell_type": "code",
   "execution_count": 12,
   "metadata": {},
   "outputs": [
    {
     "name": "stdout",
     "output_type": "stream",
     "text": [
      "a : 0\n",
      "b : 0\n",
      "b : 1\n",
      "b : 2\n",
      "a : 1\n",
      "b : 0\n",
      "b : 1\n",
      "b : 2\n"
     ]
    }
   ],
   "source": [
    "#중첩 for\n",
    "\n",
    "for a in range(2):\n",
    "    print('a :',a)\n",
    "    for b in range(3):\n",
    "        print('b :',b)"
   ]
  },
  {
   "cell_type": "code",
   "execution_count": null,
   "metadata": {},
   "outputs": [],
   "source": [
    "# 구구단\n",
    "\n",
    "for a in range(1,10):\n",
    "    for b in range(1,10):\n",
    "        print( a, end='x')\n",
    "        print(b, end='=')\n",
    "        print(a*b)\n",
    "        "
   ]
  },
  {
   "cell_type": "code",
   "execution_count": null,
   "metadata": {},
   "outputs": [],
   "source": [
    "# 별삼각형\n",
    "\n",
    "for start in range(1,11):\n",
    "    for end in range(start):\n",
    "        print('☆',end='')\n",
    "    print()"
   ]
  }
 ],
 "metadata": {
  "kernelspec": {
   "display_name": "Python 3",
   "language": "python",
   "name": "python3"
  },
  "language_info": {
   "codemirror_mode": {
    "name": "ipython",
    "version": 3
   },
   "file_extension": ".py",
   "mimetype": "text/x-python",
   "name": "python",
   "nbconvert_exporter": "python",
   "pygments_lexer": "ipython3",
   "version": "3.11.1 (tags/v3.11.1:a7a450f, Dec  6 2022, 19:58:39) [MSC v.1934 64 bit (AMD64)]"
  },
  "orig_nbformat": 4,
  "vscode": {
   "interpreter": {
    "hash": "ca3167030a8377a7b82d5e665b459d458267ba920e721652be188ae573e682bb"
   }
  }
 },
 "nbformat": 4,
 "nbformat_minor": 2
}
