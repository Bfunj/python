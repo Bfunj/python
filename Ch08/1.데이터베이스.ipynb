{
 "cells": [
  {
   "cell_type": "code",
   "execution_count": 1,
   "metadata": {},
   "outputs": [
    {
     "data": {
      "text/plain": [
       "'\\n날짜 : 2023.01.13\\n이름 : 백현조\\n내용 : 파이썬 DB 실습하기\\n'"
      ]
     },
     "execution_count": 1,
     "metadata": {},
     "output_type": "execute_result"
    }
   ],
   "source": [
    "\"\"\"\n",
    "날짜 : 2023.01.13\n",
    "이름 : 백현조\n",
    "내용 : 파이썬 데이터베이스 프로그래밍형 실습하기\n",
    "\"\"\"\n",
    "import pymysql"
   ]
  },
  {
   "cell_type": "code",
   "execution_count": 15,
   "metadata": {},
   "outputs": [
    {
     "name": "stdout",
     "output_type": "stream",
     "text": [
      "insert 완료...\n"
     ]
    }
   ],
   "source": [
    "# insert 실습.\n",
    "import pymysql\n",
    "conn = pymysql.connect(host='127.0.0.1',\n",
    "                 user='root',\n",
    "                 password='1234', \n",
    "                 db='java1db', \n",
    "                 charset='utf8')\n",
    "\n",
    "# SQL 실행객체\n",
    "\n",
    "cur = conn.cursor()\n",
    "\n",
    "# SQL 실행\n",
    "\n",
    "sql = \"insert into `user1` values ('p101','1234','파이썬','010-1234-1001',17)\"\n",
    "\n",
    "cur.execute(sql)\n",
    "conn.commit()\n",
    "\n",
    "#데이터베이스 종료\n",
    "conn.close()\n",
    "\n",
    "print('insert 완료...')"
   ]
  },
  {
   "cell_type": "code",
   "execution_count": 10,
   "metadata": {},
   "outputs": [
    {
     "name": "stdout",
     "output_type": "stream",
     "text": [
      "update 완료...\n"
     ]
    }
   ],
   "source": [
    "# Update 실습\n",
    "import pymysql\n",
    "\n",
    "conn = pymysql.connect(host='127.0.0.1',\n",
    "                 user='root',\n",
    "                 password='1234', \n",
    "                 db='java1db', \n",
    "                 charset='utf8')\n",
    "\n",
    "# SQL 실행객체\n",
    "\n",
    "cur = conn.cursor()\n",
    "\n",
    "# SQL 실행\n",
    "\n",
    "sql = \"update `user1` set\"\n",
    "sql += \"`name` = '홍길동' , \"\n",
    "sql += \"`hp` = '010-1111-7897' , \"\n",
    "sql += \"`age` = '30' \"\n",
    "sql += \" where `uid` ='p101' ; \"\n",
    "\n",
    "cur.execute(sql)\n",
    "conn.commit()\n",
    "\n",
    "#데이터베이스 종료\n",
    "conn.close()\n",
    "\n",
    "print('update 완료...')"
   ]
  },
  {
   "cell_type": "code",
   "execution_count": 12,
   "metadata": {},
   "outputs": [
    {
     "name": "stdout",
     "output_type": "stream",
     "text": [
      "delete 완료...\n"
     ]
    }
   ],
   "source": [
    "# delete 실습\n",
    "import pymysql\n",
    "\n",
    "conn = pymysql.connect(host='127.0.0.1',\n",
    "                 user='root',\n",
    "                 password='1234', \n",
    "                 db='java1db', \n",
    "                 charset='utf8')\n",
    "\n",
    "# SQL 실행객체\n",
    "\n",
    "cur = conn.cursor()\n",
    "\n",
    "# SQL 실행\n",
    "\n",
    "sql = \"delete from `user1` where `uid`='p101'\"\n",
    "\n",
    "\n",
    "cur.execute(sql)\n",
    "conn.commit()\n",
    "\n",
    "#데이터베이스 종료\n",
    "conn.close()\n",
    "\n",
    "print('delete 완료...')"
   ]
  },
  {
   "cell_type": "code",
   "execution_count": 16,
   "metadata": {},
   "outputs": [
    {
     "name": "stdout",
     "output_type": "stream",
     "text": [
      "---------------\n",
      "아이디 :  A105\n",
      "비밀번호 :  1234\n",
      "이름 :  이순진\n",
      "휴대폰 :  010-1234-5555\n",
      "나이 :  10\n",
      "---------------\n",
      "아이디 :  A102\n",
      "비밀번호 :  1234\n",
      "이름 :  김춘추\n",
      "휴대폰 :  010-1234-2222\n",
      "나이 :  23\n",
      "---------------\n",
      "아이디 :  A103\n",
      "비밀번호 :  1234\n",
      "이름 :  장보고\n",
      "휴대폰 :  010-1234-3333\n",
      "나이 :  32\n",
      "---------------\n",
      "아이디 :  A104\n",
      "비밀번호 :  1234\n",
      "이름 :  강감찬\n",
      "휴대폰 :  010-1234-4444\n",
      "나이 :  45\n",
      "---------------\n",
      "아이디 :  a201\n",
      "비밀번호 :  1234\n",
      "이름 :  홍길동\n",
      "휴대폰 :  010-1110-2221\n",
      "나이 :  29\n",
      "---------------\n",
      "아이디 :  a002\n",
      "비밀번호 :  1234\n",
      "이름 :  멋쟁이\n",
      "휴대폰 :  010-1234-1001\n",
      "나이 :  25\n",
      "---------------\n",
      "아이디 :  a003\n",
      "비밀번호 :  1234\n",
      "이름 :  간지쟁이\n",
      "휴대폰 :  010-5555\n",
      "나이 :  55\n",
      "---------------\n",
      "아이디 :  ai5\n",
      "비밀번호 :  1234\n",
      "이름 :  인공지능5호\n",
      "휴대폰 :  5-55\n",
      "나이 :  55\n",
      "---------------\n",
      "아이디 :  p101\n",
      "비밀번호 :  1234\n",
      "이름 :  파이썬\n",
      "휴대폰 :  010-1234-1001\n",
      "나이 :  17\n",
      "select 완료...\n"
     ]
    }
   ],
   "source": [
    "# select 실습\n",
    "import pymysql\n",
    "\n",
    "conn = pymysql.connect(host='127.0.0.1',\n",
    "                 user='root',\n",
    "                 password='1234', \n",
    "                 db='java1db', \n",
    "                 charset='utf8')\n",
    "\n",
    "# SQL 실행객체\n",
    "\n",
    "cur = conn.cursor()\n",
    "\n",
    "# SQL 실행\n",
    "\n",
    "sql = \"select * from `user1` \"\n",
    "\n",
    "\n",
    "cur.execute(sql)\n",
    "conn.commit()\n",
    "\n",
    "# 데이터 출력\n",
    "\n",
    "for row in cur.fetchall():\n",
    "    print('---------------')\n",
    "    print('아이디 : ', row[0])\n",
    "    print('비밀번호 : ', row[1])\n",
    "    print('이름 : ', row[2])\n",
    "    print('휴대폰 : ', row[3])\n",
    "    print('나이 : ', row[4])\n",
    "    \n",
    "\n",
    "#데이터베이스 종료\n",
    "conn.close()\n",
    "\n",
    "print('select 완료...')"
   ]
  }
 ],
 "metadata": {
  "kernelspec": {
   "display_name": "Python 3",
   "language": "python",
   "name": "python3"
  },
  "language_info": {
   "codemirror_mode": {
    "name": "ipython",
    "version": 3
   },
   "file_extension": ".py",
   "mimetype": "text/x-python",
   "name": "python",
   "nbconvert_exporter": "python",
   "pygments_lexer": "ipython3",
   "version": "3.11.1"
  },
  "orig_nbformat": 4,
  "vscode": {
   "interpreter": {
    "hash": "ca3167030a8377a7b82d5e665b459d458267ba920e721652be188ae573e682bb"
   }
  }
 },
 "nbformat": 4,
 "nbformat_minor": 2
}
