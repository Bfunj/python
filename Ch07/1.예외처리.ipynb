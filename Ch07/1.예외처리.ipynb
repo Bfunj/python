{
 "cells": [
  {
   "cell_type": "code",
   "execution_count": 1,
   "metadata": {},
   "outputs": [
    {
     "data": {
      "text/plain": [
       "'\\n날짜 : 2023.01.12\\n이름 : 백현조\\n내용 : 파이썬 예외처리 실습하기\\n'"
      ]
     },
     "execution_count": 1,
     "metadata": {},
     "output_type": "execute_result"
    }
   ],
   "source": [
    "\"\"\"\n",
    "날짜 : 2023.01.12\n",
    "이름 : 백현조\n",
    "내용 : 파이썬 예외처리 실습하기\n",
    "\"\"\""
   ]
  },
  {
   "cell_type": "code",
   "execution_count": 8,
   "metadata": {},
   "outputs": [
    {
     "name": "stdout",
     "output_type": "stream",
     "text": [
      "error 발생..\n",
      "r1 :  1\n",
      "r2 :  1\n",
      "r3 :  0\n",
      "r4 :  0\n"
     ]
    }
   ],
   "source": [
    "# try ~ except\n",
    "\n",
    "num1, num2 = 1,0\n",
    "\n",
    "r1= r2= r3 =r4 =0\n",
    "\n",
    "try:\n",
    "    r1 = num1 +num2\n",
    "    r2 = num1 -num2\n",
    "    r3 = num1 *num2\n",
    "    r4 = num1 /num2\n",
    "except:\n",
    "    print('error 발생..')\n",
    "\n",
    "print('r1 : ',r1)\n",
    "print('r2 : ',r2)\n",
    "print('r3 : ',r3)\n",
    "print('r4 : ',r4)"
   ]
  },
  {
   "cell_type": "code",
   "execution_count": null,
   "metadata": {},
   "outputs": [],
   "source": [
    "# try - except ~ finally\n",
    "\n",
    "cities = ['서울','대전','대구','부산','광주']\n",
    "\n",
    "try:\n",
    "    for i in range(10):\n",
    "        print(cities[i])\n",
    "\n",
    "except:\n",
    "    pass\n",
    "finally:\n",
    "    pass\n"
   ]
  }
 ],
 "metadata": {
  "kernelspec": {
   "display_name": "Python 3",
   "language": "python",
   "name": "python3"
  },
  "language_info": {
   "codemirror_mode": {
    "name": "ipython",
    "version": 3
   },
   "file_extension": ".py",
   "mimetype": "text/x-python",
   "name": "python",
   "nbconvert_exporter": "python",
   "pygments_lexer": "ipython3",
   "version": "3.11.1"
  },
  "orig_nbformat": 4,
  "vscode": {
   "interpreter": {
    "hash": "ca3167030a8377a7b82d5e665b459d458267ba920e721652be188ae573e682bb"
   }
  }
 },
 "nbformat": 4,
 "nbformat_minor": 2
}
