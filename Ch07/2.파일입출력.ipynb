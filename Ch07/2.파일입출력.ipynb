{
 "cells": [
  {
   "cell_type": "code",
   "execution_count": 1,
   "metadata": {},
   "outputs": [
    {
     "data": {
      "text/plain": [
       "'\\n날짜 : 2023.01.12\\n이름 : 백현조\\n내용 : 파이썬 파일입출력 실습하기\\n'"
      ]
     },
     "execution_count": 1,
     "metadata": {},
     "output_type": "execute_result"
    }
   ],
   "source": [
    "\"\"\"\n",
    "날짜 : 2023.01.12\n",
    "이름 : 백현조\n",
    "내용 : 파이썬 파일입출력 실습하기\n",
    "\"\"\""
   ]
  },
  {
   "cell_type": "code",
   "execution_count": 7,
   "metadata": {},
   "outputs": [
    {
     "name": "stdout",
     "output_type": "stream",
     "text": [
      "Helloooooooooooooo world1!\n",
      "bye world!\n",
      "ohh\n"
     ]
    }
   ],
   "source": [
    "# 파일 읽기\n",
    "\n",
    "f1 = open('C:/Users/java1/Desktop/Text.txt', mode='r', encoding=\"UTF-8\")\n",
    "while True:\n",
    "    line = f1.read()\n",
    "    if not line:\n",
    "        break\n",
    "\n",
    "    print(line)\n",
    "f1.close()"
   ]
  },
  {
   "cell_type": "code",
   "execution_count": 11,
   "metadata": {},
   "outputs": [
    {
     "data": {
      "text/plain": [
       "<function TextIOWrapper.close()>"
      ]
     },
     "execution_count": 11,
     "metadata": {},
     "output_type": "execute_result"
    }
   ],
   "source": [
    "# 파일 출력\n",
    "\n",
    "f2 = open('C:/Users/java1/Desktop/Result.txt', mode='w', encoding=\"UTF-8\")\n",
    "\n",
    "f2.write('안녕하십니까\\n')\n",
    "f2.write('안녕하십니까?\\n')\n",
    "f2.write('안녕하십니까!!!!!\\n')\n",
    "\n",
    "f2.close()\n",
    "\n"
   ]
  },
  {
   "cell_type": "code",
   "execution_count": null,
   "metadata": {},
   "outputs": [],
   "source": [
    "## 구구단 출력\n",
    "\n",
    "file = open('C:/Users/java1/Desktop/gugudan.txt', mode='w', encoding=\"UTF-8\")\n",
    "\n",
    "\n",
    "for x in range(2, 10):\n",
    "    for y in range(9):\n",
    "        result = x*y\n",
    "    file.write('%d x %d = %d' %x %y %result)\n",
    "\n",
    "file.close()\n"
   ]
  }
 ],
 "metadata": {
  "kernelspec": {
   "display_name": "Python 3",
   "language": "python",
   "name": "python3"
  },
  "language_info": {
   "codemirror_mode": {
    "name": "ipython",
    "version": 3
   },
   "file_extension": ".py",
   "mimetype": "text/x-python",
   "name": "python",
   "nbconvert_exporter": "python",
   "pygments_lexer": "ipython3",
   "version": "3.11.1"
  },
  "orig_nbformat": 4,
  "vscode": {
   "interpreter": {
    "hash": "ca3167030a8377a7b82d5e665b459d458267ba920e721652be188ae573e682bb"
   }
  }
 },
 "nbformat": 4,
 "nbformat_minor": 2
}
