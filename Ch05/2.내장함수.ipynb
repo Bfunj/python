{
 "cells": [
  {
   "cell_type": "code",
   "execution_count": 1,
   "metadata": {},
   "outputs": [
    {
     "data": {
      "text/plain": [
       "'\\n날짜 : 2023.01.10\\n이름 : 백현조\\n내용 : 파이썬 내장함수 실습하기\\n'"
      ]
     },
     "execution_count": 1,
     "metadata": {},
     "output_type": "execute_result"
    }
   ],
   "source": [
    "\"\"\"\n",
    "날짜 : 2023.01.10\n",
    "이름 : 백현조\n",
    "내용 : 파이썬 내장함수 실습하기\n",
    "\"\"\"\n",
    "\n",
    "import time\n",
    "import math\n",
    "import random"
   ]
  },
  {
   "cell_type": "code",
   "execution_count": 7,
   "metadata": {},
   "outputs": [
    {
     "ename": "SyntaxError",
     "evalue": "invalid syntax. Perhaps you forgot a comma? (2773867374.py, line 17)",
     "output_type": "error",
     "traceback": [
      "\u001b[1;36m  Cell \u001b[1;32mIn[7], line 17\u001b[1;36m\u001b[0m\n\u001b[1;33m    print('{}년{}월{}일 {}:{}:{}'.format{year,mon,date,hout,min,sec} )\u001b[0m\n\u001b[1;37m          ^\u001b[0m\n\u001b[1;31mSyntaxError\u001b[0m\u001b[1;31m:\u001b[0m invalid syntax. Perhaps you forgot a comma?\n"
     ]
    }
   ],
   "source": [
    "# 시간 관련 함수\n",
    "import time\n",
    "t1= time.time()\n",
    "print('t1 : ', t1)\n",
    "\n",
    "t2=time.ctime()\n",
    "print('t2 :' , t2)\n",
    "\n",
    "now=time.localtime(time.time())\n",
    "year= time.strftime('%Y', now)\n",
    "mon= time.strftime('%m', now)\n",
    "date= time.strftime('%d', now)\n",
    "hour= time.strftime('%h', now)\n",
    "min= time.strftime('%M', now)\n",
    "sec= time.strftime('%s', now)\n",
    "\n",
    "print('{}년{}월{}일 {}:{}:{}' .format{year,mon,date,hout,min,sec} )\n"
   ]
  },
  {
   "cell_type": "code",
   "execution_count": 8,
   "metadata": {},
   "outputs": [
    {
     "name": "stdout",
     "output_type": "stream",
     "text": [
      "2\n",
      "2\n",
      "1\n",
      "1\n",
      "1\n",
      "2\n",
      "3.0\n"
     ]
    }
   ],
   "source": [
    "# 수학관련함수\n",
    "import math\n",
    "r1 = math.ceil(1.2)\n",
    "r2 = math.ceil(1.8)\n",
    "r3 = math.floor(1.2)\n",
    "r4 = math.floor(1.8)\n",
    "r5= round(1.2)\n",
    "r6= round(1.8)\n",
    "r7=math.sqrt(9)\n",
    "\n",
    "print(r1)\n",
    "print(r2)\n",
    "print(r3)\n",
    "print(r4)\n",
    "print(r5)\n",
    "print(r6)\n",
    "print(r7)"
   ]
  },
  {
   "cell_type": "code",
   "execution_count": 11,
   "metadata": {},
   "outputs": [
    {
     "name": "stdout",
     "output_type": "stream",
     "text": [
      "0.6573311365046417\n",
      "6.5733113650464166\n",
      "7\n"
     ]
    }
   ],
   "source": [
    "# 랜덤\n",
    "import random\n",
    "\n",
    "n1=random.random()\n",
    "print(n1)\n",
    "\n",
    "n2=n1*10\n",
    "print(n2)\n",
    "\n",
    "n3=math.ceil(n2)\n",
    "print(n3)"
   ]
  }
 ],
 "metadata": {
  "kernelspec": {
   "display_name": "Python 3",
   "language": "python",
   "name": "python3"
  },
  "language_info": {
   "codemirror_mode": {
    "name": "ipython",
    "version": 3
   },
   "file_extension": ".py",
   "mimetype": "text/x-python",
   "name": "python",
   "nbconvert_exporter": "python",
   "pygments_lexer": "ipython3",
   "version": "3.11.1"
  },
  "orig_nbformat": 4,
  "vscode": {
   "interpreter": {
    "hash": "ca3167030a8377a7b82d5e665b459d458267ba920e721652be188ae573e682bb"
   }
  }
 },
 "nbformat": 4,
 "nbformat_minor": 2
}
