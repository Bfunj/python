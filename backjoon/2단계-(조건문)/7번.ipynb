{
 "cells": [
  {
   "cell_type": "code",
   "execution_count": 2,
   "metadata": {},
   "outputs": [
    {
     "data": {
      "text/plain": [
       "'\\nhttps://www.acmicpc.net/step/2\\n 날짜 : 2023.01.03\\n 이름 : 백현조\\n 내용 : 백준 2단계 (1330)\\n        1번 - 두수 비교하기\\n'"
      ]
     },
     "execution_count": 2,
     "metadata": {},
     "output_type": "execute_result"
    }
   ],
   "source": [
    "\"\"\"\n",
    "https://www.acmicpc.net/step/4\n",
    " 날짜 : 2023.01.03\n",
    " 이름 : 백현조\n",
    " 내용 : 백준 2단계 (2480)\n",
    "        7번 - 주사위 세개\n",
    "\"\"\""
   ]
  },
  {
   "cell_type": "code",
   "execution_count": 5,
   "metadata": {},
   "outputs": [
    {
     "name": "stdout",
     "output_type": "stream",
     "text": [
      "600\n"
     ]
    }
   ],
   "source": [
    "x =list(map(int, (input().split())))\n",
    "max=0\n",
    "if x[0] == x[1] == x[2]:\n",
    "    print(x[0]*1000+10000)\n",
    "elif x[0] == x[1] and x[0] != x[2]:   print(x[0]*100+1000)\n",
    "elif x[0] == x[2] and x[0] != x[1]:   print(x[0]*100+1000)\n",
    "elif x[1] == x[2] and x[0] != x[1]:   print(x[1]*100+1000)\n",
    "else :\n",
    "    for i in range(3):\n",
    "        if max < x[i]: max=x[i]\n",
    "    print(max*100)\n",
    "\n",
    " \n",
    "    \n",
    "\n",
    "\n",
    "\n"
   ]
  }
 ],
 "metadata": {
  "kernelspec": {
   "display_name": "Python 3",
   "language": "python",
   "name": "python3"
  },
  "language_info": {
   "codemirror_mode": {
    "name": "ipython",
    "version": 3
   },
   "file_extension": ".py",
   "mimetype": "text/x-python",
   "name": "python",
   "nbconvert_exporter": "python",
   "pygments_lexer": "ipython3",
   "version": "3.11.1 (tags/v3.11.1:a7a450f, Dec  6 2022, 19:58:39) [MSC v.1934 64 bit (AMD64)]"
  },
  "orig_nbformat": 4,
  "vscode": {
   "interpreter": {
    "hash": "ca3167030a8377a7b82d5e665b459d458267ba920e721652be188ae573e682bb"
   }
  }
 },
 "nbformat": 4,
 "nbformat_minor": 2
}
