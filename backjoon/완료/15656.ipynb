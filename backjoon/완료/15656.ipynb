{
 "cells": [
  {
   "cell_type": "code",
   "execution_count": null,
   "metadata": {},
   "outputs": [],
   "source": [
    "\"\"\"\n",
    "https://www.acmicpc.net/workbook/codeplus\n",
    "https://www.acmicpc.net/problem/15650\n",
    " 날짜 : 2023.01.27\n",
    " 이름 : 백현조\n",
    " 내용 : 백준 N과M 5 (15654)\n",
    "\n",
    "        자연수 N과 M이 주어졌을 때,\n",
    "        아래 조건을 만족하는 길이가 M인 수열을 모두 구하는 프로그램을 작성하시오.\n",
    "\n",
    "            N개의 자연수 중에서 M개를 고른 수열\n",
    "       \n",
    "\n",
    " 입력 : \n",
    "       첫째 줄에 자연수 N과 M이 주어진다. (1 ≤ M ≤ N ≤ 8)\n",
    "\n",
    " 출력 : \n",
    "      한 줄에 하나씩 문제의 조건을 만족하는 수열을 출력한다.\n",
    "      중복되는 수열을 여러 번 출력하면 안되며,\n",
    "      각 수열은 공백으로 구분해서 출력해야 한다.\n",
    "      수열은 사전 순으로 증가하는 순서로 출력해야 한다.\n",
    "\n",
    "참고 사이트 : https://jiwon-coding.tistory.com/21\n",
    "\n",
    "\"\"\"\n",
    "\n"
   ]
  },
  {
   "cell_type": "code",
   "execution_count": 7,
   "metadata": {},
   "outputs": [
    {
     "ename": "TypeError",
     "evalue": "'list' object is not callable",
     "output_type": "error",
     "traceback": [
      "\u001b[1;31m---------------------------------------------------------------------------\u001b[0m",
      "\u001b[1;31mTypeError\u001b[0m                                 Traceback (most recent call last)",
      "Cell \u001b[1;32mIn[7], line 1\u001b[0m\n\u001b[1;32m----> 1\u001b[0m n,m \u001b[39m=\u001b[39m \u001b[39mlist\u001b[39;49m(\u001b[39mmap\u001b[39;49m(\u001b[39mint\u001b[39;49m,\u001b[39minput\u001b[39;49m()\u001b[39m.\u001b[39;49msplit()))\n\u001b[0;32m      3\u001b[0m s \u001b[39m=\u001b[39m []\n\u001b[0;32m      5\u001b[0m \u001b[39mdef\u001b[39;00m \u001b[39mdfs\u001b[39m():\n",
      "\u001b[1;31mTypeError\u001b[0m: 'list' object is not callable"
     ]
    }
   ],
   "source": [
    "n,m = list(map(int,input().split()))\n",
    "list2 = list(map(int,input().split()))\n",
    "list2.sort()\n",
    "s = []\n",
    "\n",
    "def dfs():\n",
    "    if len(s)==m:\n",
    "        print(' '.join(map(str,s)))\n",
    "        return\n",
    "    \n",
    "    for i in range(1,n+1):\n",
    "        if list2[i] not in s:\n",
    "            s.append(list2[i])\n",
    "            dfs()\n",
    "            s.pop()\n",
    "            \n",
    "dfs()"
   ]
  },
  {
   "cell_type": "code",
   "execution_count": null,
   "metadata": {},
   "outputs": [],
   "source": [
    "\"\"\"\n",
    "1. n m 에 숫자 입력 받기\n",
    "3. s=[] list 선언\n",
    "5. dfs 함수 생성\n",
    "6. s의 크기가 m과 같으면\n",
    "7. 출력 list s에 담긴 데이터 join을 통해 한줄 출력\n",
    "8. return\n",
    "10. 1부터 n 까지 반복\n",
    "11. s에 i가 없다면\n",
    "12. s에 i를 추가\n",
    "13. i가 추가된 s를 dfs()실행\n",
    "14. i가 추가된 s에서 i 삭제\n",
    "\n",
    "10-2. 맨 처음 반복문에서는 맨 앞에 출력 되는 숫자 반복\n",
    "10-3. 처음 반복문 안에서의 dfs는 두번째 출력 될 숫자 반복\n",
    "10-n. 마지막에 출력될 숫자를 찾아서 출력\n",
    "\"\"\""
   ]
  }
 ],
 "metadata": {
  "kernelspec": {
   "display_name": "Python 3",
   "language": "python",
   "name": "python3"
  },
  "language_info": {
   "codemirror_mode": {
    "name": "ipython",
    "version": 3
   },
   "file_extension": ".py",
   "mimetype": "text/x-python",
   "name": "python",
   "nbconvert_exporter": "python",
   "pygments_lexer": "ipython3",
   "version": "3.11.1"
  },
  "orig_nbformat": 4,
  "vscode": {
   "interpreter": {
    "hash": "ca3167030a8377a7b82d5e665b459d458267ba920e721652be188ae573e682bb"
   }
  }
 },
 "nbformat": 4,
 "nbformat_minor": 2
}
