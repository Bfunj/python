{
 "cells": [
  {
   "cell_type": "code",
   "execution_count": null,
   "metadata": {},
   "outputs": [],
   "source": [
    "\"\"\"\n",
    "https://www.acmicpc.net/workbook/codeplus\n",
    "https://www.acmicpc.net/problem/6588\n",
    " 날짜 : 2023.01.19\n",
    " 이름 : 백현조\n",
    " 내용 : 백준 골드바흐의 추측(6588)\n",
    "\n",
    "        1742년, 독일의 아마추어 수학가 크리스티안 골드바흐는\n",
    "      레온하르트 오일러에게 다음과 같은 추측을 제안하는 편지를 보냈다.\n",
    "\n",
    "      4보다 큰 모든 짝수는 두 홀수 소수의 합으로 나타낼 수 있다.\n",
    "      예를 들어 8은 3 + 5로 나타낼 수 있고,\n",
    "      3과 5는 모두 홀수인 소수이다.\n",
    "      또, 20 = 3 + 17 = 7 + 13, 42 = 5 + 37 = 11 + 31 = 13 + 29 = 19 + 23 이다.\n",
    "\n",
    "      이 추측은 아직도 해결되지 않은 문제이다.\n",
    "\n",
    "      백만 이하의 모든 짝수에 대해서, 이 추측을 검증하는 프로그램을 작성하시오.\n",
    "\n",
    " 입력 :\n",
    "      입력은 하나 또는 그 이상의 테스트 케이스로 이루어져 있다.\n",
    "      테스트 케이스의 개수는 100,000개를 넘지 않는다.\n",
    "      각 테스트 케이스는 짝수 정수 n 하나로 이루어져 있다. (6 ≤ n ≤ 1000000)\n",
    "      입력의 마지막 줄에는 0이 하나 주어진다.\n",
    " 출력 : \n",
    "      각 테스트 케이스에 대해서, n = a + b 형태로 출력한다.\n",
    "      이때, a와 b는 홀수 소수이다.\n",
    "      숫자와 연산자는 공백 하나로 구분되어져 있다.\n",
    "      만약, n을 만들 수 있는 방법이 여러 가지라면, b-a가 가장 큰 것을 출력한다.\n",
    "      또, 두 홀수 소수의 합으로 n을 나타낼 수 없는 경우에는\n",
    "      \"Goldbach's conjecture is wrong.\"을 출력한다.\n",
    "    \n",
    "\"\"\""
   ]
  },
  {
   "cell_type": "code",
   "execution_count": 15,
   "metadata": {},
   "outputs": [
    {
     "name": "stdout",
     "output_type": "stream",
     "text": [
      "8 = 3 + 5\n",
      "20 = 3 + 17\n",
      "42 = 5 + 37\n",
      "44 = 3 + 41\n",
      "46 = 3 + 43\n",
      "48 = 5 + 43\n",
      "50 = 3 + 47\n",
      "52 = 5 + 47\n",
      "54 = 7 + 47\n",
      "56 = 3 + 53\n",
      "58 = 5 + 53\n",
      "60 = 7 + 53\n",
      "62 = 3 + 59\n",
      "64 = 3 + 61\n",
      "100 = 3 + 97\n",
      "108 = 5 + 103\n",
      "1000 = 3 + 997\n",
      "10000 = 59 + 9941\n",
      "100000 = 11 + 99989\n",
      "200000 = 67 + 199933\n",
      "300000 = 7 + 299993\n",
      "400000 = 11 + 399989\n",
      "500000 = 31 + 499969\n",
      "600000 = 7 + 599993\n",
      "700000 = 47 + 699953\n",
      "800000 = 7 + 799993\n",
      "900000 = 19 + 899981\n",
      "100000 = 11 + 99989\n",
      "1000000 = 17 + 999983\n",
      "999998 = 19 + 999979\n"
     ]
    },
    {
     "ename": "ValueError",
     "evalue": "invalid literal for int() with base 10: ''",
     "output_type": "error",
     "traceback": [
      "\u001b[1;31m---------------------------------------------------------------------------\u001b[0m",
      "\u001b[1;31mValueError\u001b[0m                                Traceback (most recent call last)",
      "Cell \u001b[1;32mIn[15], line 3\u001b[0m\n\u001b[0;32m      1\u001b[0m sosu \u001b[39m=\u001b[39m [\u001b[39m0\u001b[39m \u001b[39mfor\u001b[39;00m i \u001b[39min\u001b[39;00m \u001b[39mrange\u001b[39m(\u001b[39m1000001\u001b[39m)]\n\u001b[0;32m      2\u001b[0m \u001b[39mwhile\u001b[39;00m \u001b[39mTrue\u001b[39;00m:\n\u001b[1;32m----> 3\u001b[0m     num\u001b[39m=\u001b[39m\u001b[39mint\u001b[39;49m(\u001b[39minput\u001b[39;49m())\n\u001b[0;32m      4\u001b[0m     \u001b[39mif\u001b[39;00m num\u001b[39m==\u001b[39m\u001b[39m0\u001b[39m:\n\u001b[0;32m      5\u001b[0m         \u001b[39mbreak\u001b[39;00m\n",
      "\u001b[1;31mValueError\u001b[0m: invalid literal for int() with base 10: ''"
     ]
    }
   ],
   "source": [
    "sosu = [True for i in range(1000001)]\n",
    "while True:\n",
    "    num=int(input())\n",
    "    if num==0:\n",
    "        break\n",
    "\n",
    "    sosu[1]=-1\n",
    "    for i in range(2, len(sosu)):\n",
    "        if sosu[i] == 0:\n",
    "            sosu[i]=i\n",
    "            for j in range(2*i, len(sosu), i):\n",
    "                sosu[j] = -1\n",
    "\n",
    "    for i in range(num , 2, -1):\n",
    "        if sosu[i] != -1 :\n",
    "            sma_nu=num-sosu[i]\n",
    "            if sosu[sma_nu] != -1:\n",
    "                big_nu=sosu[i]\n",
    "                break\n",
    "    print(\"%d = %d + %d\" %(num, sma_nu, big_nu))\n",
    "\n"
   ]
  },
  {
   "cell_type": "code",
   "execution_count": null,
   "metadata": {},
   "outputs": [],
   "source": []
  }
 ],
 "metadata": {
  "kernelspec": {
   "display_name": "Python 3",
   "language": "python",
   "name": "python3"
  },
  "language_info": {
   "codemirror_mode": {
    "name": "ipython",
    "version": 3
   },
   "file_extension": ".py",
   "mimetype": "text/x-python",
   "name": "python",
   "nbconvert_exporter": "python",
   "pygments_lexer": "ipython3",
   "version": "3.11.1"
  },
  "orig_nbformat": 4,
  "vscode": {
   "interpreter": {
    "hash": "ca3167030a8377a7b82d5e665b459d458267ba920e721652be188ae573e682bb"
   }
  }
 },
 "nbformat": 4,
 "nbformat_minor": 2
}
