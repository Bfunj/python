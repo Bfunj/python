{
 "cells": [
  {
   "cell_type": "code",
   "execution_count": null,
   "metadata": {},
   "outputs": [],
   "source": [
    "\"\"\"\n",
    "https://www.acmicpc.net/workbook/codeplus\n",
    "https://www.acmicpc.net/problem/1037\n",
    " 날짜 : 2023.01.13\n",
    " 이름 : 백현조\n",
    " 내용 : 백준 약수(1037)\n",
    "        양수 A가 N의 진짜 약수가 되려면, N이 A의 배수이고,\n",
    "        A가 1과 N이 아니어야 한다. 어떤 수 N의 진짜 약수가\n",
    "        모두 주어질 때, N을 구하는 프로그램을 작성하시오.\n",
    " 입력 : 첫째 줄에 N의 진짜 약수의 개수가 주어진다. \n",
    "        이 개수는 50보다 작거나 같은 자연수이다.\n",
    "        둘째 줄에는 N의 진짜 약수가 주어진다.\n",
    "        1,000,000보다 작거나 같고, 2보다 크거나 같은 자연수이고, 중복되지 않는다.\n",
    " 출력 : 첫째 줄에 N을 출력한다. N은 항상 32비트 부호있는 정수로 표현할 수 있다.\n",
    "    \n",
    "\"\"\""
   ]
  },
  {
   "cell_type": "code",
   "execution_count": 5,
   "metadata": {},
   "outputs": [
    {
     "name": "stdout",
     "output_type": "stream",
     "text": [
      "8\n"
     ]
    }
   ],
   "source": [
    "case= int(input())\n",
    "num=list(map(int, input().split()))\n",
    "\n",
    "mi=min(num)\n",
    "ma=max(num)\n",
    "\n",
    "print(mi*ma)"
   ]
  },
  {
   "cell_type": "code",
   "execution_count": null,
   "metadata": {},
   "outputs": [],
   "source": [
    "\"\"\"\n",
    "1. 이 문제 같은 경우에 입력을 해당 약수의 가장 큰수와 작은수가 주어진다..\n",
    "2. 1번과 같은 이유에서 큰 고민이 필요하지 않다.\n",
    "3. 1번의 이유를 모르고 엄청 어렵게 풀뻔한 문제이다.\n",
    "4. 입력이 10, 11, 12, 13 이 주어질 경우 이 수를 가지는 약수들중 가장 작은수를 구하면..\n",
    "5. 입력이 4번과 같이 주어졌다면 난이도가 많이 올라갔을거다.\n",
    "\"\"\""
   ]
  }
 ],
 "metadata": {
  "kernelspec": {
   "display_name": "Python 3",
   "language": "python",
   "name": "python3"
  },
  "language_info": {
   "codemirror_mode": {
    "name": "ipython",
    "version": 3
   },
   "file_extension": ".py",
   "mimetype": "text/x-python",
   "name": "python",
   "nbconvert_exporter": "python",
   "pygments_lexer": "ipython3",
   "version": "3.11.1 (tags/v3.11.1:a7a450f, Dec  6 2022, 19:58:39) [MSC v.1934 64 bit (AMD64)]"
  },
  "orig_nbformat": 4,
  "vscode": {
   "interpreter": {
    "hash": "ca3167030a8377a7b82d5e665b459d458267ba920e721652be188ae573e682bb"
   }
  }
 },
 "nbformat": 4,
 "nbformat_minor": 2
}
