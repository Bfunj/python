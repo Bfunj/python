{
 "cells": [
  {
   "cell_type": "code",
   "execution_count": null,
   "metadata": {},
   "outputs": [],
   "source": [
    "\"\"\"\n",
    "https://www.acmicpc.net/workbook/codeplus\n",
    "https://www.acmicpc.net/problem/2609\n",
    " 날짜 : 2023.01.17\n",
    " 이름 : 백현조\n",
    " 내용 : 최대공약수와 최소공배수(2609)\n",
    "\n",
    "        두 개의 자연수를 입력받아 최대 공약수와 최소 공배수를 출력하는 프로그램을 작성하시오.\n",
    "\n",
    " 입력 : 첫째 줄에는 두 개의 자연수가 주어진다.\n",
    "       이 둘은 10,000이하의 자연수이며 사이에 한 칸의 공백이 주어진다.\n",
    "\n",
    " 출력 : 첫째 줄에는 입력으로 주어진 두 수의 최대공약수를,\n",
    "       둘째 줄에는 입력으로 주어진 두 수의 최소 공배수를 출력한다.\n",
    "    \n",
    "\"\"\""
   ]
  },
  {
   "cell_type": "code",
   "execution_count": 2,
   "metadata": {},
   "outputs": [
    {
     "name": "stdout",
     "output_type": "stream",
     "text": [
      "6\n",
      "72\n"
     ]
    }
   ],
   "source": [
    "num=list(map(int, input().split()))\n",
    "a = max(num)\n",
    "b = min(num)\n",
    "r = 0\n",
    "while True:\n",
    "    r = a%b\n",
    "    if r == 0:\n",
    "        break\n",
    "    else:\n",
    "        a =b\n",
    "        b =r\n",
    "\n",
    "print(b)\n",
    "print(max(num)*min(num)//b)\n"
   ]
  },
  {
   "cell_type": "code",
   "execution_count": null,
   "metadata": {},
   "outputs": [],
   "source": []
  }
 ],
 "metadata": {
  "kernelspec": {
   "display_name": "Python 3",
   "language": "python",
   "name": "python3"
  },
  "language_info": {
   "codemirror_mode": {
    "name": "ipython",
    "version": 3
   },
   "file_extension": ".py",
   "mimetype": "text/x-python",
   "name": "python",
   "nbconvert_exporter": "python",
   "pygments_lexer": "ipython3",
   "version": "3.11.1 (tags/v3.11.1:a7a450f, Dec  6 2022, 19:58:39) [MSC v.1934 64 bit (AMD64)]"
  },
  "orig_nbformat": 4,
  "vscode": {
   "interpreter": {
    "hash": "ca3167030a8377a7b82d5e665b459d458267ba920e721652be188ae573e682bb"
   }
  }
 },
 "nbformat": 4,
 "nbformat_minor": 2
}
