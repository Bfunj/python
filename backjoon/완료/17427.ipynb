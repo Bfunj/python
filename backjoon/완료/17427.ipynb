{
 "cells": [
  {
   "cell_type": "code",
   "execution_count": null,
   "metadata": {},
   "outputs": [],
   "source": [
    "\"\"\"\n",
    "https://www.acmicpc.net/workbook/codeplus\n",
    "https://www.acmicpc.net/problem/17427\n",
    " 날짜 : 2023.01.13\n",
    " 이름 : 백현조\n",
    " 내용 : 백준 약수2(17427)\n",
    "\n",
    "        두 자연수 A와 B가 있을 때,\n",
    "        A = BC를 만족하는 자연수 C를 A의 약수라고 한다.\n",
    "        예를 들어, 2의 약수는 1, 2가 있고,\n",
    "        24의 약수는 1, 2, 3, 4, 6, 8, 12, 24가 있다.\n",
    "        자연수 A의 약수의 합은 A의 모든 약수를 더한 값이고, f(A)로 표현한다.\n",
    "        x보다 작거나 같은 모든 자연수 y의 f(y)값을 더한 값은 g(x)로 표현한다.\n",
    "\n",
    "       자연수 N이 주어졌을 때, g(N)을 구해보자.\n",
    "\n",
    " 입력 : 첫째 줄에 자연수 N(1 ≤ N ≤ 1,000,000)이 주어진다.\n",
    "\n",
    " 출력 : 첫째 줄에 g(N)를 출력한다.\n",
    "    \n",
    "\"\"\""
   ]
  },
  {
   "cell_type": "code",
   "execution_count": 37,
   "metadata": {},
   "outputs": [
    {
     "name": "stdout",
     "output_type": "stream",
     "text": [
      "82261064\n"
     ]
    }
   ],
   "source": [
    "import math\n",
    "num= int(input())\n",
    "\n",
    "def divisor(su):\n",
    "    divisor_list=[]\n",
    "    for i in range(1 ,int(math.sqrt(su)+1)):\n",
    "        if(su%i == 0):\n",
    "                divisor_list.append(i)\n",
    "                divisor_list.append(su//i)\n",
    "    \n",
    "    return sum(divisor_list)\n",
    "result=0\n",
    "for i in range(1, num+1):\n",
    "    result += divisor(i)\n",
    "\n",
    "print(result)\n",
    "        "
   ]
  },
  {
   "cell_type": "code",
   "execution_count": 2,
   "metadata": {},
   "outputs": [
    {
     "name": "stdout",
     "output_type": "stream",
     "text": [
      "10\n",
      "20\n",
      "29\n",
      "37\n",
      "47\n",
      "53\n",
      "60\n",
      "68\n",
      "77\n",
      "87\n",
      "87\n"
     ]
    }
   ],
   "source": [
    "n = int(input())\n",
    "sum = 0\n",
    "for i in range(1, n+1) :\n",
    "  sum += (n//i)*i\n",
    "\n",
    "print(sum)"
   ]
  }
 ],
 "metadata": {
  "kernelspec": {
   "display_name": "Python 3",
   "language": "python",
   "name": "python3"
  },
  "language_info": {
   "codemirror_mode": {
    "name": "ipython",
    "version": 3
   },
   "file_extension": ".py",
   "mimetype": "text/x-python",
   "name": "python",
   "nbconvert_exporter": "python",
   "pygments_lexer": "ipython3",
   "version": "3.11.1 (tags/v3.11.1:a7a450f, Dec  6 2022, 19:58:39) [MSC v.1934 64 bit (AMD64)]"
  },
  "orig_nbformat": 4,
  "vscode": {
   "interpreter": {
    "hash": "ca3167030a8377a7b82d5e665b459d458267ba920e721652be188ae573e682bb"
   }
  }
 },
 "nbformat": 4,
 "nbformat_minor": 2
}
