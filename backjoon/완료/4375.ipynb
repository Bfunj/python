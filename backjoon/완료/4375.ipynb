{
 "cells": [
  {
   "cell_type": "code",
   "execution_count": 1,
   "metadata": {},
   "outputs": [
    {
     "data": {
      "text/plain": [
       "'\\nhttps://www.acmicpc.net/problem/4375\\n 날짜 : 2023.01.13\\n 이름 : 백현조\\n 내용 : 백준 1(4375)\\n        2와 5로 나누어 떨어지지 않는 정수 n(1 ≤ n ≤ 10000)가 주어졌을 때,\\n         1로만 이루어진 n의 배수를 찾는 프로그램을 작성하시오.\\n 입력 : 입력은 여러 개의 테스트 케이스로 이루어져 있다.\\n        각 테스트 케이스는 한 줄로 이루어져 있고, n이 주어진다.\\n 출력 : 1로 이루어진 n의 배수 중 가장 작은 수의 자리수를 출력한다.\\n    \\n'"
      ]
     },
     "execution_count": 1,
     "metadata": {},
     "output_type": "execute_result"
    }
   ],
   "source": [
    "\"\"\"\n",
    "https://www.acmicpc.net/workbook/codeplus\n",
    "https://www.acmicpc.net/problem/4375\n",
    " 날짜 : 2023.01.13\n",
    " 이름 : 백현조\n",
    " 내용 : 백준 1(4375)\n",
    "        2와 5로 나누어 떨어지지 않는 정수 n(1 ≤ n ≤ 10000)가 주어졌을 때,\n",
    "         1로만 이루어진 n의 배수를 찾는 프로그램을 작성하시오.\n",
    " 입력 : 입력은 여러 개의 테스트 케이스로 이루어져 있다.\n",
    "        각 테스트 케이스는 한 줄로 이루어져 있고, n이 주어진다.\n",
    " 출력 : 1로 이루어진 n의 배수 중 가장 작은 수의 자리수를 출력한다.\n",
    "    \n",
    "\"\"\""
   ]
  },
  {
   "cell_type": "code",
   "execution_count": 15,
   "metadata": {},
   "outputs": [
    {
     "name": "stdout",
     "output_type": "stream",
     "text": [
      "3\n",
      "6\n",
      "9\n",
      "2\n",
      "6\n"
     ]
    }
   ],
   "source": [
    "while True:\n",
    "\n",
    "    try:\n",
    "        n=int(input())\n",
    "    except :\n",
    "        break\n",
    "    num=1\n",
    "    result = 0\n",
    "    while True:\n",
    "        result=num%n\n",
    "        if result==0:\n",
    "            break\n",
    "        num=num*10+1\n",
    "\n",
    "    print(len(str(num)))"
   ]
  }
 ],
 "metadata": {
  "kernelspec": {
   "display_name": "Python 3",
   "language": "python",
   "name": "python3"
  },
  "language_info": {
   "codemirror_mode": {
    "name": "ipython",
    "version": 3
   },
   "file_extension": ".py",
   "mimetype": "text/x-python",
   "name": "python",
   "nbconvert_exporter": "python",
   "pygments_lexer": "ipython3",
   "version": "3.11.1 (tags/v3.11.1:a7a450f, Dec  6 2022, 19:58:39) [MSC v.1934 64 bit (AMD64)]"
  },
  "orig_nbformat": 4,
  "vscode": {
   "interpreter": {
    "hash": "ca3167030a8377a7b82d5e665b459d458267ba920e721652be188ae573e682bb"
   }
  }
 },
 "nbformat": 4,
 "nbformat_minor": 2
}
