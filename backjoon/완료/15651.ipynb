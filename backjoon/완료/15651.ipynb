{
 "cells": [
  {
   "cell_type": "code",
   "execution_count": null,
   "metadata": {},
   "outputs": [],
   "source": [
    "\"\"\"\n",
    "https://www.acmicpc.net/workbook/codeplus\n",
    "https://www.acmicpc.net/problem/15651\n",
    " 날짜 : 2023.01.26\n",
    " 이름 : 백현조\n",
    " 내용 : 백준 N과M 3 (15651)\n",
    "\n",
    "        자연수 N과 M이 주어졌을 때,\n",
    "        아래 조건을 만족하는 길이가 M인 수열을 모두 구하는 프로그램을 작성하시오.\n",
    "\n",
    "      1부터 N까지 자연수 중에서 중복 없이 M개를 고른 수열\n",
    "      같은 수를 여러 번 골라도 된다.\n",
    "\n",
    " 입력 : \n",
    "       첫째 줄에 자연수 N과 M이 주어진다. (1 ≤ M ≤ N ≤ 7)\n",
    "\n",
    " 출력 : \n",
    "      한 줄에 하나씩 문제의 조건을 만족하는 수열을 출력한다.\n",
    "      중복되는 수열을 여러 번 출력하면 안되며,\n",
    "      각 수열은 공백으로 구분해서 출력해야 한다.\n",
    "      수열은 사전 순으로 증가하는 순서로 출력해야 한다.\n",
    "\n",
    "참고 사이트 : https://jiwon-coding.tistory.com/21\n",
    "\n",
    "\"\"\"\n",
    "\n"
   ]
  },
  {
   "cell_type": "code",
   "execution_count": 20,
   "metadata": {},
   "outputs": [
    {
     "name": "stdout",
     "output_type": "stream",
     "text": [
      "1 1 1\n",
      "1 1 2\n",
      "1 1 3\n",
      "1 2 1\n",
      "1 2 2\n",
      "1 2 3\n",
      "1 3 1\n",
      "1 3 2\n",
      "1 3 3\n",
      "2 1 1\n",
      "2 1 2\n",
      "2 1 3\n",
      "2 2 1\n",
      "2 2 2\n",
      "2 2 3\n",
      "2 3 1\n",
      "2 3 2\n",
      "2 3 3\n",
      "3 1 1\n",
      "3 1 2\n",
      "3 1 3\n",
      "3 2 1\n",
      "3 2 2\n",
      "3 2 3\n",
      "3 3 1\n",
      "3 3 2\n",
      "3 3 3\n"
     ]
    }
   ],
   "source": [
    "n,m = list(map(int,input().split()))\n",
    " \n",
    "s = []\n",
    " \n",
    "def dfs():\n",
    "    if len(s)==m:\n",
    "        print(' '.join(map(str,s)))\n",
    "        return\n",
    "    \n",
    "    for i in range(1,n+1):\n",
    "            s.append(i)\n",
    "            dfs()\n",
    "            s.pop()\n",
    "            \n",
    "dfs()"
   ]
  },
  {
   "cell_type": "code",
   "execution_count": null,
   "metadata": {},
   "outputs": [],
   "source": [
    "\"\"\"\n",
    "1. n m 에 숫자 입력 받기\n",
    "3. s=[] list 선언\n",
    "5. dfs 함수 생성\n",
    "6. s의 크기가 m과 같으면\n",
    "7. 출력 list s에 담긴 데이터 join을 통해 한줄 출력\n",
    "8. return\n",
    "10. 1부터 n 까지 반복\n",
    "11. s에 i가 없다면\n",
    "12. s에 i를 추가\n",
    "13. i가 추가된 s를 dfs()실행\n",
    "14. i가 추가된 s에서 i 삭제\n",
    "\n",
    "10-2. 맨 처음 반복문에서는 맨 앞에 출력 되는 숫자 반복\n",
    "10-3. 처음 반복문 안에서의 dfs는 두번째 출력 될 숫자 반복\n",
    "10-n. 마지막에 출력될 숫자를 찾아서 출력\n",
    "\"\"\""
   ]
  }
 ],
 "metadata": {
  "kernelspec": {
   "display_name": "Python 3",
   "language": "python",
   "name": "python3"
  },
  "language_info": {
   "codemirror_mode": {
    "name": "ipython",
    "version": 3
   },
   "file_extension": ".py",
   "mimetype": "text/x-python",
   "name": "python",
   "nbconvert_exporter": "python",
   "pygments_lexer": "ipython3",
   "version": "3.11.1"
  },
  "orig_nbformat": 4,
  "vscode": {
   "interpreter": {
    "hash": "ca3167030a8377a7b82d5e665b459d458267ba920e721652be188ae573e682bb"
   }
  }
 },
 "nbformat": 4,
 "nbformat_minor": 2
}
